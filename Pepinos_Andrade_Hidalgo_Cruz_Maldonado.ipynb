{
 "cells": [
  {
   "cell_type": "markdown",
   "metadata": {
    "cell_id": "3dd25e86ed7341e3a2555e6b8bac35f7",
    "deepnote_cell_height": 222,
    "deepnote_cell_type": "markdown",
    "tags": []
   },
   "source": [
    "# Integrantes\n",
    "    - Wilian Pepinós\n",
    "    - Sebastián Andrade\n",
    "    - Eduardo Hidalgo\n",
    "    - Mateo Cruz\n",
    "    - Piero Maldonado"
   ]
  },
  {
   "cell_type": "markdown",
   "metadata": {
    "cell_id": "b0e511191075468cab4c936f57d95682",
    "deepnote_cell_type": "text-cell-h1",
    "is_collapsed": false,
    "tags": []
   },
   "source": [
    "# Introduccion"
   ]
  },
  {
   "cell_type": "markdown",
   "metadata": {
    "cell_id": "b914aab529ef41f3b2fc9977c663b626",
    "deepnote_cell_height": 156,
    "deepnote_cell_type": "markdown",
    "owner_user_id": "61524647-19f2-4f2e-b52d-184c54c7b2fa",
    "tags": []
   },
   "source": [
    "Monte Carlo simulations are used to model the probability of different outcomes in a process that cannot easily be predicted due to the intervention of random variables. It is a technique used to understand the impact of risk and uncertainty in prediction and forecasting models.\n",
    "\n",
    "A Monte Carlo simulation can be used to tackle a range of problems in virtually every field such as finance, engineering, supply chain, and science. It is also referred to as a multiple probability simulation."
   ]
  },
  {
   "cell_type": "code",
   "execution_count": 21,
   "metadata": {
    "cell_id": "b769b064-a9fb-4507-af7a-bf0d709ed668",
    "deepnote_cell_height": 742.1875,
    "deepnote_cell_type": "code",
    "deepnote_output_heights": [
     341,
     21.1875
    ],
    "deepnote_to_be_reexecuted": false,
    "execution_millis": 709,
    "execution_start": 1652061190631,
    "source_hash": "fc71145e"
   },
   "outputs": [
    {
     "data": {
      "image/png": "[encoded data removed]",
      "text/plain": [
       "<Figure size 400x400 with 1 Axes>"
      ]
     },
     "metadata": {
      "needs_background": "light"
     },
     "output_type": "display_data"
    },
    {
     "data": {
      "text/plain": [
       "<Figure size 640x640 with 0 Axes>"
      ]
     },
     "metadata": {},
     "output_type": "display_data"
    }
   ],
   "source": [
    "import numpy as np\n",
    "import matplotlib.pyplot as plt\n",
    "from matplotlib.patches import Rectangle\n",
    "\n",
    "fig, ax = plt.subplots()\n",
    "fig = plt.figure(figsize = (8, 8))\n",
    "\n",
    "ax.set_ylim(-4, 8)\n",
    "ax.set_xlim(-2, 10)\n",
    "\n",
    "ax.add_patch(Rectangle((0, 0), 5, 5, fc='g'))\n",
    "ax.add_patch(Rectangle((1, 2), 5, 5, -53.14, fc='r'))\n",
    "plt.rcParams['figure.figsize'] = [5, 5]\n",
    "plt.rcParams[\"figure.dpi\"] = 80\n",
    "plt.show()"
   ]
  },
  {
   "cell_type": "code",
   "execution_count": 22,
   "metadata": {
    "cell_id": "00001-58a8a990-8f47-42be-96ef-347426761628",
    "deepnote_cell_height": 117,
    "deepnote_cell_type": "code",
    "deepnote_to_be_reexecuted": false,
    "execution_millis": 1,
    "execution_start": 1652062871817,
    "source_hash": "239949c4"
   },
   "outputs": [],
   "source": [
    "#Original Ecuations - It is not necesary to rotate  lines because is a square\n",
    "f1 = lambda x: 0.75 * x + 1.25\n",
    "f2 = lambda x: -((4)/(3)) * x + ((10)/(3))\n",
    "f = lambda x: f1(x) if x <= 1 else f2(x)\n",
    "\n",
    "#Ecuations in function of Y\n",
    "#f1 = lambda y: (y-1.25) / 0.75\n",
    "#f2 = lambda y: (-3*y+10) / 4\n",
    "#f = lambda y: f1(y) if y <= 2 else f2(y)\n"
   ]
  },
  {
   "cell_type": "code",
   "execution_count": 23,
   "metadata": {
    "cell_id": "8de95a1bc845460089082af61a12ae47",
    "deepnote_cell_height": 210,
    "deepnote_cell_type": "code",
    "tags": []
   },
   "outputs": [
    {
     "ename": "SyntaxError",
     "evalue": "invalid syntax (3122614211.py, line 1)",
     "output_type": "error",
     "traceback": [
      "\u001b[1;36m  Input \u001b[1;32mIn [23]\u001b[1;36m\u001b[0m\n\u001b[1;33m    First, the 2 rectangles are created on the Cartesian axis according to the requirements of\u001b[0m\n\u001b[1;37m                                                                                               ^\u001b[0m\n\u001b[1;31mSyntaxError\u001b[0m\u001b[1;31m:\u001b[0m invalid syntax\n"
     ]
    }
   ],
   "source": [
    "First, the 2 rectangles are created on the Cartesian axis according to the requirements of \n",
    "the exercise, that is, the length of the sides, inclination and overlap are respected.\n",
    "\n",
    "Next, the two functions or lines that coincide with the sides of the overlapping rectangle \n",
    "are created. In this way you can use the functions to perform the simulation\n",
    "\n",
    "It is noteworthy to mention that, to create the vertex, the existence of each function is\n",
    "defined according to the value in X. In other words, if X is less than 2, f1 is taken, \n",
    "while if it is greater, f2 exists."
   ]
  },
  {
   "cell_type": "code",
   "execution_count": 33,
   "metadata": {
    "cell_id": "00002-b8368926-47cb-4221-a157-23af144b2e69",
    "deepnote_cell_height": 936,
    "deepnote_cell_type": "code",
    "deepnote_output_heights": [
     null,
     337
    ],
    "deepnote_to_be_reexecuted": false,
    "execution_millis": 249,
    "execution_start": 1652061462179,
    "source_hash": "5329edb6"
   },
   "outputs": [
    {
     "name": "stdout",
     "output_type": "stream",
     "text": [
      "Area for n=10 is 1.0782364159254128\n",
      "Area for n=100 is 3.543222366610854\n",
      "Area for n=1000 is 2.4845085428151843\n",
      "Area for n=10000 is 2.492437471775279\n"
     ]
    },
    {
     "data": {
      "image/png": "[encoded data removed]",
      "text/plain": [
       "<Figure size 400x400 with 1 Axes>"
      ]
     },
     "metadata": {
      "needs_background": "light"
     },
     "output_type": "display_data"
    }
   ],
   "source": [
    "def do_sample(a, b, n=10):\n",
    "    return np.random.rand(n)*(b - a) + a\n",
    "\n",
    "def evaluate_fx_sample(m):\n",
    "    return [f(n) for n in m]\n",
    "\n",
    "#This is the domain function\n",
    "(a, b) = (-1, 4) \n",
    "\n",
    "t_samples = [10, 100, 1000, 10000]\n",
    "\n",
    "for t in t_samples:\n",
    "    x_m = do_sample(a, b, t)\n",
    "    f_m = evaluate_fx_sample(x_m)    \n",
    "    area = (b-a)*sum(f_m)/t\n",
    "    print(\"Area for n=\"+str(t), \"is\", area)\n",
    "    \n",
    "\n",
    "x = np.linspace(-1, 4, 100)\n",
    "fx = evaluate_fx_sample(x) \n",
    "\n",
    "plt.plot(x, fx)\n",
    "plt.plot(x_m, f_m,'o', color = 'black')\n",
    "plt.show()"
   ]
  },
  {
   "cell_type": "code",
   "execution_count": 25,
   "metadata": {
    "cell_id": "f6dd9a4c0fae4087b3925779f3bf4802",
    "deepnote_cell_height": 138,
    "deepnote_cell_type": "code",
    "tags": []
   },
   "outputs": [
    {
     "ename": "SyntaxError",
     "evalue": "invalid syntax (558301366.py, line 1)",
     "output_type": "error",
     "traceback": [
      "\u001b[1;36m  Input \u001b[1;32mIn [25]\u001b[1;36m\u001b[0m\n\u001b[1;33m    In the Cartesian plane, the overlapping vertex is plotted so that it is easier to calculate\u001b[0m\n\u001b[1;37m       ^\u001b[0m\n\u001b[1;31mSyntaxError\u001b[0m\u001b[1;31m:\u001b[0m invalid syntax\n"
     ]
    }
   ],
   "source": [
    "In the Cartesian plane, the overlapping vertex is plotted so that it is easier to calculate \n",
    "the area when it is under the functions f1 and f2. When performing the simulation we apply \n",
    "various values of n. Therefore, the higher the value of n, the more points the program will \n",
    "throw randomly and perform more simulations. That is, the higher n is, the better the \n",
    "measurement of the area.\n",
    "\n",
    "In addition, the graphic shows the area rotate 90 degrees because it is easy to work on X axis"
   ]
  },
  {
   "cell_type": "markdown",
   "metadata": {
    "cell_id": "7c4cd125755a4a359e822466e925e4ba",
    "deepnote_cell_type": "text-cell-h1",
    "is_collapsed": false,
    "tags": []
   },
   "source": [
    "# Hit and miss"
   ]
  },
  {
   "cell_type": "code",
   "execution_count": 35,
   "metadata": {
    "cell_id": "00003-bf0bad07-45d3-40c9-8b2f-9ddba988403a",
    "deepnote_cell_height": 1076,
    "deepnote_cell_type": "code",
    "deepnote_output_heights": [
     null,
     337
    ],
    "deepnote_to_be_reexecuted": false,
    "execution_millis": 340,
    "execution_start": 1652061134618,
    "owner_user_id": "3df8e34f-1897-4d91-a524-b0b14bfe9b0b",
    "source_hash": "515760d9"
   },
   "outputs": [
    {
     "name": "stdout",
     "output_type": "stream",
     "text": [
      "Area for n=10 is 7.0\n",
      "Area for n=100 is 5.2\n"
     ]
    },
    {
     "data": {
      "image/png": "[encoded data removed]",
      "text/plain": [
       "<Figure size 400x400 with 1 Axes>"
      ]
     },
     "metadata": {
      "needs_background": "light"
     },
     "output_type": "display_data"
    }
   ],
   "source": [
    "def hit_and_miss(a, b, c, n):\n",
    "    x_in, x_out = [], []\n",
    "    y_in, y_out = [], []\n",
    "    \n",
    "    for i in range(n):\n",
    "        x_r = do_sample(a, b, 1) \n",
    "        y_r = do_sample(-2, c, 1)\n",
    "        if y_r < f(x_r): \n",
    "            x_in += [x_r]  \n",
    "            y_in += [y_r]  \n",
    "        else:  # punto fuera\n",
    "            x_out += [x_r]  \n",
    "            y_out += [y_r]  \n",
    "        \n",
    "    return x_in, y_in, x_out, y_out  \n",
    "\n",
    "\n",
    "(a, b, c) = (-1, 4, 2)\n",
    "\n",
    "t_samples = [10, 100]\n",
    "\n",
    "area_square = (b-a)*c\n",
    "\n",
    "\n",
    "for t in t_samples:\n",
    "    points = hit_and_miss(a, b, c, t)\n",
    "    area = len(points[0]) / t * area_square\n",
    "    print(\"Area for n=\"+str(t), \"is\", area)\n",
    "    \n",
    "plt.plot(x, fx)\n",
    "plt.plot(points[0], points[1], 'o', color = 'blue')  \n",
    "plt.plot(points[2], points[3], 'o',color = 'red') \n",
    "plt.show()"
   ]
  },
  {
   "cell_type": "code",
   "execution_count": 27,
   "metadata": {
    "cell_id": "2881dd0c3f4045ec96efae7984ee3a44",
    "deepnote_cell_height": 192,
    "deepnote_cell_type": "code",
    "tags": []
   },
   "outputs": [
    {
     "ename": "SyntaxError",
     "evalue": "invalid syntax (1653195540.py, line 1)",
     "output_type": "error",
     "traceback": [
      "\u001b[1;36m  Input \u001b[1;32mIn [27]\u001b[1;36m\u001b[0m\n\u001b[1;33m    Finally, it is at this point that the application of Monte Carlo in the simulation can be observed.\u001b[0m\n\u001b[1;37m                                                                                                        ^\u001b[0m\n\u001b[1;31mSyntaxError\u001b[0m\u001b[1;31m:\u001b[0m invalid syntax\n"
     ]
    }
   ],
   "source": [
    "Finally, it is at this point that the application of Monte Carlo in the simulation can be observed. \n",
    "This is because, graphically, you can see the different points thrown at random. \n",
    "So, the blue points are the ones that are inside the area to be calculated (under the two functions), \n",
    "while the red points fall outside it.\n",
    "\n",
    "Definitely, the greater the number of points or simulations, the more precise the calculation of \n",
    "the area will be. However, Monte Carlo already allows us to generate a very close idea with few \n",
    "simulations due to its randomness condition."
   ]
  },
  {
   "cell_type": "markdown",
   "metadata": {
    "created_in_deepnote_cell": true,
    "deepnote_cell_type": "markdown",
    "tags": []
   },
   "source": [
    "<a style='text-decoration:none;line-height:16px;display:flex;color:#5B5B62;padding:10px;justify-content:end;' href='https://deepnote.com?utm_source=created-in-deepnote-cell&projectId=15407693-b973-481e-b1bd-50ff93b1058a' target=\"_blank\">\n",
    "<img alt='Created in deepnote.com' style='display:inline;max-height:16px;margin:0px;margin-right:7.5px;' src='data:image/svg+xml;base64,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' > </img>\n",
    "Created in <span style='font-weight:600;margin-left:4px;'>Deepnote</span></a>"
   ]
  }
 ],
 "metadata": {
  "deepnote": {},
  "deepnote_execution_queue": [],
  "deepnote_notebook_id": "e78ee194-a66e-466d-82db-4438c8b3352f",
  "interpreter": {
   "hash": "9cb51c34f876ba0fae81b70f36288878e6c520c2b2b74ccee6f7cdab29b1b265"
  },
  "kernelspec": {
   "display_name": "Python 3 (ipykernel)",
   "language": "python",
   "name": "python3"
  },
  "language_info": {
   "codemirror_mode": {
    "name": "ipython",
    "version": 3
   },
   "file_extension": ".py",
   "mimetype": "text/x-python",
   "name": "python",
   "nbconvert_exporter": "python",
   "pygments_lexer": "ipython3",
   "version": "3.9.12"
  }
 },
 "nbformat": 4,
 "nbformat_minor": 2
}
